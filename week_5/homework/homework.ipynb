{
 "cells": [
  {
   "cell_type": "code",
   "execution_count": 1,
   "id": "3847f66a",
   "metadata": {},
   "outputs": [],
   "source": [
    "import pyspark\n",
    "import pandas as pd\n",
    "\n",
    "from pyspark.sql import SparkSession\n",
    "from pyspark.sql import types as T\n",
    "from pyspark.sql import functions as F"
   ]
  },
  {
   "cell_type": "code",
   "execution_count": 2,
   "id": "b0f9a7ec",
   "metadata": {},
   "outputs": [
    {
     "name": "stderr",
     "output_type": "stream",
     "text": [
      "23/03/06 17:33:34 WARN Utils: Your hostname, Zambo-ROG resolves to a loopback address: 127.0.1.1; using 172.30.104.214 instead (on interface eth0)\n",
      "23/03/06 17:33:34 WARN Utils: Set SPARK_LOCAL_IP if you need to bind to another address\n",
      "WARNING: An illegal reflective access operation has occurred\n",
      "WARNING: Illegal reflective access by org.apache.spark.unsafe.Platform (file:/home/wtfzambo/miniconda3/envs/pyspark3/lib/python3.7/site-packages/pyspark/jars/spark-unsafe_2.12-3.1.2.jar) to constructor java.nio.DirectByteBuffer(long,int)\n",
      "WARNING: Please consider reporting this to the maintainers of org.apache.spark.unsafe.Platform\n",
      "WARNING: Use --illegal-access=warn to enable warnings of further illegal reflective access operations\n",
      "WARNING: All illegal access operations will be denied in a future release\n",
      "23/03/06 17:33:36 WARN NativeCodeLoader: Unable to load native-hadoop library for your platform... using builtin-java classes where applicable\n",
      "Using Spark's default log4j profile: org/apache/spark/log4j-defaults.properties\n",
      "Setting default log level to \"WARN\".\n",
      "To adjust logging level use sc.setLogLevel(newLevel). For SparkR, use setLogLevel(newLevel).\n",
      "23/03/06 17:33:37 WARN Utils: Service 'SparkUI' could not bind on port 4040. Attempting port 4041.\n"
     ]
    }
   ],
   "source": [
    "spark = SparkSession.builder \\\n",
    "    .master('local[*]') \\\n",
    "    .appName('test') \\\n",
    "    .config('spark.driver.memory', '2g') \\\n",
    "    .getOrCreate()"
   ]
  },
  {
   "cell_type": "code",
   "execution_count": 3,
   "id": "1e10694a",
   "metadata": {
    "scrolled": true
   },
   "outputs": [
    {
     "data": {
      "text/html": [
       "\n",
       "            <div>\n",
       "                <p><b>SparkSession - in-memory</b></p>\n",
       "                \n",
       "        <div>\n",
       "            <p><b>SparkContext</b></p>\n",
       "\n",
       "            <p><a href=\"http://172.30.104.214:4041\">Spark UI</a></p>\n",
       "\n",
       "            <dl>\n",
       "              <dt>Version</dt>\n",
       "                <dd><code>v3.1.2</code></dd>\n",
       "              <dt>Master</dt>\n",
       "                <dd><code>local[*]</code></dd>\n",
       "              <dt>AppName</dt>\n",
       "                <dd><code>test</code></dd>\n",
       "            </dl>\n",
       "        </div>\n",
       "        \n",
       "            </div>\n",
       "        "
      ],
      "text/plain": [
       "<pyspark.sql.session.SparkSession at 0x7fba72ed0cd0>"
      ]
     },
     "execution_count": 3,
     "metadata": {},
     "output_type": "execute_result"
    }
   ],
   "source": [
    "spark"
   ]
  },
  {
   "cell_type": "code",
   "execution_count": 32,
   "id": "f3eef996",
   "metadata": {},
   "outputs": [],
   "source": [
    "sc = spark.sparkContext"
   ]
  },
  {
   "cell_type": "code",
   "execution_count": 21,
   "id": "1eb93379",
   "metadata": {},
   "outputs": [],
   "source": [
    "schema = T.StructType([\n",
    "    T.StructField('dispatching_base_num', T.StringType(), True),\n",
    "    T.StructField('pickup_datetime', T.TimestampType(), True),\n",
    "    T.StructField('dropoff_datetime', T.TimestampType(), True),\n",
    "    T.StructField('PULocationID', T.IntegerType(), True),\n",
    "    T.StructField('DOLocationID', T.IntegerType(), True),\n",
    "    T.StructField('SR_Flag', T.StringType(), True),\n",
    "    T.StructField('Affiliated_base_number', T.StringType(), True)\n",
    "])"
   ]
  },
  {
   "cell_type": "code",
   "execution_count": 22,
   "id": "1695d773",
   "metadata": {},
   "outputs": [],
   "source": [
    "df = spark.read \\\n",
    "    .schema(schema) \\\n",
    "    .option('header', 'true') \\\n",
    "    .csv('data/fhvhv_tripdata_2021-06.csv') \\"
   ]
  },
  {
   "cell_type": "code",
   "execution_count": 24,
   "id": "ee3080c8",
   "metadata": {},
   "outputs": [
    {
     "name": "stdout",
     "output_type": "stream",
     "text": [
      "dispatching_base_num,pickup_datetime,dropoff_datetime,PULocationID,DOLocationID,SR_Flag,Affiliated_base_number\r\n",
      "B02764,2021-06-01 00:02:41,2021-06-01 00:07:46,174,18,N,B02764\r\n",
      "B02764,2021-06-01 00:16:16,2021-06-01 00:21:14,32,254,N,B02764\r\n",
      "B02764,2021-06-01 00:27:01,2021-06-01 00:42:11,240,127,N,B02764\r\n",
      "B02764,2021-06-01 00:46:08,2021-06-01 00:53:45,127,235,N,B02764\r\n"
     ]
    }
   ],
   "source": [
    "!head data/fhvhv_tripdata_2021-06.csv -n 5"
   ]
  },
  {
   "cell_type": "code",
   "execution_count": 23,
   "id": "04c0175d",
   "metadata": {
    "scrolled": false
   },
   "outputs": [
    {
     "name": "stdout",
     "output_type": "stream",
     "text": [
      "+--------------------+-------------------+-------------------+------------+------------+-------+----------------------+\n",
      "|dispatching_base_num|    pickup_datetime|   dropoff_datetime|PULocationID|DOLocationID|SR_Flag|Affiliated_base_number|\n",
      "+--------------------+-------------------+-------------------+------------+------------+-------+----------------------+\n",
      "|              B02764|2021-06-01 00:02:41|2021-06-01 00:07:46|         174|          18|      N|                B02764|\n",
      "|              B02764|2021-06-01 00:16:16|2021-06-01 00:21:14|          32|         254|      N|                B02764|\n",
      "|              B02764|2021-06-01 00:27:01|2021-06-01 00:42:11|         240|         127|      N|                B02764|\n",
      "|              B02764|2021-06-01 00:46:08|2021-06-01 00:53:45|         127|         235|      N|                B02764|\n",
      "|              B02764|2021-06-01 00:48:06|2021-06-01 01:04:10|         209|          45|      N|                B02764|\n",
      "|              B02875|2021-06-01 00:18:54|2021-06-01 00:26:14|          80|         256|      N|                B02875|\n",
      "|              B02875|2021-06-01 00:31:02|2021-06-01 00:36:39|         217|          17|      N|                B02875|\n",
      "|              B02875|2021-06-01 00:41:53|2021-06-01 01:07:32|          17|         265|      N|                B02875|\n",
      "|              B02875|2021-06-01 00:29:52|2021-06-01 00:54:41|         210|          76|      N|                B02875|\n",
      "|              B02884|2021-06-01 00:07:30|2021-06-01 00:17:24|          76|         218|      N|                B02884|\n",
      "|              B02884|2021-06-01 00:20:52|2021-06-01 00:22:35|         218|         218|      N|                B02884|\n",
      "|              B02884|2021-06-01 00:27:01|2021-06-01 00:34:35|          10|         219|      N|                B02884|\n",
      "|              B02884|2021-06-01 00:42:01|2021-06-01 00:53:17|         139|          10|      N|                B02884|\n",
      "|              B02764|2021-06-01 00:06:11|2021-06-01 00:16:28|         254|          81|      N|                B02764|\n",
      "|              B02764|2021-06-01 00:19:21|2021-06-01 00:32:06|          51|          47|      N|                B02764|\n",
      "|              B02764|2021-06-01 00:34:32|2021-06-01 00:50:57|          20|          51|      N|                B02764|\n",
      "|              B02617|2021-06-01 00:05:04|2021-06-01 00:19:19|          78|         254|      N|                B02617|\n",
      "|              B02617|2021-06-01 00:21:48|2021-06-01 00:25:42|         254|         174|      N|                B02617|\n",
      "|              B02617|2021-06-01 00:42:51|2021-06-01 00:51:41|         248|          47|      N|                B02617|\n",
      "|              B02617|2021-06-01 00:59:15|2021-06-01 01:10:14|         243|          42|      N|                B02617|\n",
      "+--------------------+-------------------+-------------------+------------+------------+-------+----------------------+\n",
      "only showing top 20 rows\n",
      "\n"
     ]
    }
   ],
   "source": [
    "df.filter(\n",
    "    df.Affiliated_base_number.isNotNull()\n",
    ").show()"
   ]
  },
  {
   "cell_type": "code",
   "execution_count": 49,
   "id": "0cb9ae0b",
   "metadata": {},
   "outputs": [],
   "source": [
    "df = df.repartition(12)"
   ]
  },
  {
   "cell_type": "code",
   "execution_count": 34,
   "id": "45352a0f",
   "metadata": {},
   "outputs": [
    {
     "name": "stderr",
     "output_type": "stream",
     "text": [
      "                                                                                \r"
     ]
    }
   ],
   "source": [
    "df.write \\\n",
    "    .mode('overwrite') \\\n",
    "    .parquet('data/fhvhv/2021/06') \\"
   ]
  },
  {
   "cell_type": "code",
   "execution_count": 50,
   "id": "5f57818e",
   "metadata": {},
   "outputs": [],
   "source": [
    "sc.setCheckpointDir('data/checkpoint')"
   ]
  },
  {
   "cell_type": "code",
   "execution_count": 51,
   "id": "2f5f3e93",
   "metadata": {
    "scrolled": true
   },
   "outputs": [
    {
     "name": "stderr",
     "output_type": "stream",
     "text": [
      "                                                                                \r"
     ]
    }
   ],
   "source": [
    "df = df.coalesce(1).checkpoint()"
   ]
  },
  {
   "cell_type": "code",
   "execution_count": 52,
   "id": "64c902e0",
   "metadata": {
    "scrolled": true
   },
   "outputs": [
    {
     "name": "stderr",
     "output_type": "stream",
     "text": [
      "                                                                                \r"
     ]
    },
    {
     "data": {
      "text/plain": [
       "452470"
      ]
     },
     "execution_count": 52,
     "metadata": {},
     "output_type": "execute_result"
    }
   ],
   "source": [
    "df.filter(F.to_date(df.pickup_datetime) == '2021-06-15').count()"
   ]
  },
  {
   "cell_type": "code",
   "execution_count": 61,
   "id": "dbc86ed9",
   "metadata": {},
   "outputs": [
    {
     "name": "stderr",
     "output_type": "stream",
     "text": [
      "\r",
      "[Stage 36:>                                                         (0 + 1) / 1]\r"
     ]
    },
    {
     "name": "stdout",
     "output_type": "stream",
     "text": [
      "+---------------------------+\n",
      "|max(trip_duration_in_hours)|\n",
      "+---------------------------+\n",
      "|           66.8788888888889|\n",
      "+---------------------------+\n",
      "\n"
     ]
    },
    {
     "name": "stderr",
     "output_type": "stream",
     "text": [
      "\r",
      "                                                                                \r"
     ]
    }
   ],
   "source": [
    "df \\\n",
    "    .withColumn(\n",
    "        'trip_duration_in_hours',\n",
    "        (F.unix_timestamp(df.dropoff_datetime) - F.unix_timestamp(df.pickup_datetime)) / 3600\n",
    "    ) \\\n",
    "    .select(F.max('trip_duration_in_hours')) \\\n",
    "    .show()"
   ]
  },
  {
   "cell_type": "code",
   "execution_count": 71,
   "id": "9fb04796",
   "metadata": {},
   "outputs": [],
   "source": [
    "lookup_schema = '''\n",
    "LocationID integer,\n",
    "Borough string,\n",
    "Zone string,\n",
    "service_zone string\n",
    "'''\n",
    "\n",
    "zone_lookup_df = spark.read \\\n",
    "    .schema(lookup_schema) \\\n",
    "    .option('header', True) \\\n",
    "    .csv('data/taxi_zone_lookup.csv')"
   ]
  },
  {
   "cell_type": "code",
   "execution_count": 77,
   "id": "df5a1958",
   "metadata": {},
   "outputs": [
    {
     "name": "stdout",
     "output_type": "stream",
     "text": [
      "+----------+-------------+--------------------+------------+\n",
      "|LocationID|      Borough|                Zone|service_zone|\n",
      "+----------+-------------+--------------------+------------+\n",
      "|         1|          EWR|      Newark Airport|         EWR|\n",
      "|         2|       Queens|         Jamaica Bay|   Boro Zone|\n",
      "|         3|        Bronx|Allerton/Pelham G...|   Boro Zone|\n",
      "|         4|    Manhattan|       Alphabet City| Yellow Zone|\n",
      "|         5|Staten Island|       Arden Heights|   Boro Zone|\n",
      "+----------+-------------+--------------------+------------+\n",
      "only showing top 5 rows\n",
      "\n"
     ]
    }
   ],
   "source": [
    "zone_lookup_df.show(5)"
   ]
  },
  {
   "cell_type": "code",
   "execution_count": 76,
   "id": "add1f918",
   "metadata": {},
   "outputs": [
    {
     "name": "stdout",
     "output_type": "stream",
     "text": [
      "+--------------------+-------------------+-------------------+------------+------------+-------+----------------------+\n",
      "|dispatching_base_num|    pickup_datetime|   dropoff_datetime|PULocationID|DOLocationID|SR_Flag|Affiliated_base_number|\n",
      "+--------------------+-------------------+-------------------+------------+------------+-------+----------------------+\n",
      "|              B02764|2021-06-02 09:03:22|2021-06-02 09:32:19|          91|          17|      N|                B02764|\n",
      "|              B02889|2021-06-02 22:33:27|2021-06-02 22:44:25|          90|         231|      N|                B02889|\n",
      "|              B02510|2021-06-02 22:33:16|2021-06-02 22:48:12|         140|          50|      N|                  null|\n",
      "|              B02510|2021-06-01 01:58:42|2021-06-01 02:06:21|          48|         229|      N|                  null|\n",
      "|              B02765|2021-06-03 00:04:41|2021-06-03 02:02:34|         179|         265|      N|                B02765|\n",
      "+--------------------+-------------------+-------------------+------------+------------+-------+----------------------+\n",
      "only showing top 5 rows\n",
      "\n"
     ]
    }
   ],
   "source": [
    "df.show(5)"
   ]
  },
  {
   "cell_type": "code",
   "execution_count": 74,
   "id": "ad999be3",
   "metadata": {},
   "outputs": [],
   "source": [
    "df.createOrReplaceTempView('trips')\n",
    "zone_lookup_df.createOrReplaceTempView('zones')"
   ]
  },
  {
   "cell_type": "code",
   "execution_count": 82,
   "id": "ac76ec1a",
   "metadata": {},
   "outputs": [
    {
     "name": "stderr",
     "output_type": "stream",
     "text": [
      "\r",
      "[Stage 56:>                                                         (0 + 1) / 1]\r"
     ]
    },
    {
     "name": "stdout",
     "output_type": "stream",
     "text": [
      "+-------------------+------+\n",
      "|               Zone| count|\n",
      "+-------------------+------+\n",
      "|Crown Heights North|231279|\n",
      "+-------------------+------+\n",
      "\n"
     ]
    },
    {
     "name": "stderr",
     "output_type": "stream",
     "text": [
      "\r",
      "                                                                                \r"
     ]
    }
   ],
   "source": [
    "spark.sql('''\n",
    "SELECT\n",
    "    zones.Zone\n",
    "    , count(1) AS count\n",
    "FROM trips\n",
    "INNER JOIN zones\n",
    "    ON trips.PULocationID = zones.LocationID\n",
    "GROUP BY 1\n",
    "ORDER BY 2 DESC\n",
    "LIMIT 1\n",
    "''').show()"
   ]
  }
 ],
 "metadata": {
  "kernelspec": {
   "display_name": "Python [conda env:pyspark3]",
   "language": "python",
   "name": "conda-env-pyspark3-py"
  },
  "language_info": {
   "codemirror_mode": {
    "name": "ipython",
    "version": 3
   },
   "file_extension": ".py",
   "mimetype": "text/x-python",
   "name": "python",
   "nbconvert_exporter": "python",
   "pygments_lexer": "ipython3",
   "version": "3.7.11"
  },
  "toc": {
   "base_numbering": 1,
   "nav_menu": {},
   "number_sections": true,
   "sideBar": true,
   "skip_h1_title": false,
   "title_cell": "Table of Contents",
   "title_sidebar": "Contents",
   "toc_cell": false,
   "toc_position": {},
   "toc_section_display": true,
   "toc_window_display": false
  }
 },
 "nbformat": 4,
 "nbformat_minor": 5
}
